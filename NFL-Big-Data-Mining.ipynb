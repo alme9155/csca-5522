{
 "cells": [
  {
   "cell_type": "markdown",
   "id": "70040c86",
   "metadata": {
    "papermill": {
     "duration": 0.001873,
     "end_time": "2025-07-07T23:50:20.572331",
     "exception": false,
     "start_time": "2025-07-07T23:50:20.570458",
     "status": "completed"
    },
    "tags": []
   },
   "source": [
    "# CSCA-5522: Data Mining Project #\n",
    "#### A Data Mining Exploration in NFL Big Data Bowl 2025. ####\n",
    "    \n",
    "* Author: Alexander Meau  \n",
    "* Email: alme9155@colorado.edu  \n",
    "* GitHub: [https://github.com/alme9155/csca-5522/tree/main](https://github.com/alme9155/csca-5522/tree/main)  \n"
   ]
  },
  {
   "cell_type": "code",
   "execution_count": 1,
   "id": "f59cae66",
   "metadata": {
    "_cell_guid": "b1076dfc-b9ad-4769-8c92-a6c4dae69d19",
    "_uuid": "8f2839f25d086af736a60e9eeb907d3b93b6e0e5",
    "execution": {
     "iopub.execute_input": "2025-07-07T23:50:20.577344Z",
     "iopub.status.busy": "2025-07-07T23:50:20.576923Z",
     "iopub.status.idle": "2025-07-07T23:50:22.532156Z",
     "shell.execute_reply": "2025-07-07T23:50:22.531049Z"
    },
    "papermill": {
     "duration": 1.959762,
     "end_time": "2025-07-07T23:50:22.533727",
     "exception": false,
     "start_time": "2025-07-07T23:50:20.573965",
     "status": "completed"
    },
    "tags": []
   },
   "outputs": [
    {
     "name": "stdout",
     "output_type": "stream",
     "text": [
      "/kaggle/input/nfl-big-data-bowl-2025/players.csv\n",
      "/kaggle/input/nfl-big-data-bowl-2025/tracking_week_7.csv\n",
      "/kaggle/input/nfl-big-data-bowl-2025/tracking_week_9.csv\n",
      "/kaggle/input/nfl-big-data-bowl-2025/tracking_week_6.csv\n",
      "/kaggle/input/nfl-big-data-bowl-2025/games.csv\n",
      "/kaggle/input/nfl-big-data-bowl-2025/tracking_week_8.csv\n",
      "/kaggle/input/nfl-big-data-bowl-2025/player_play.csv\n",
      "/kaggle/input/nfl-big-data-bowl-2025/tracking_week_4.csv\n",
      "/kaggle/input/nfl-big-data-bowl-2025/tracking_week_3.csv\n",
      "/kaggle/input/nfl-big-data-bowl-2025/tracking_week_5.csv\n",
      "/kaggle/input/nfl-big-data-bowl-2025/tracking_week_1.csv\n",
      "/kaggle/input/nfl-big-data-bowl-2025/plays.csv\n",
      "/kaggle/input/nfl-big-data-bowl-2025/tracking_week_2.csv\n"
     ]
    }
   ],
   "source": [
    "# This Python 3 environment comes with many helpful analytics libraries installed\n",
    "# It is defined by the kaggle/python Docker image: https://github.com/kaggle/docker-python\n",
    "# For example, here's several helpful packages to load\n",
    "\n",
    "import numpy as np # linear algebra\n",
    "import pandas as pd # data processing, CSV file I/O (e.g. pd.read_csv)\n",
    "\n",
    "# Input data files are available in the read-only \"../input/\" directory\n",
    "# For example, running this (by clicking run or pressing Shift+Enter) will list all files under the input directory\n",
    "\n",
    "import os\n",
    "for dirname, _, filenames in os.walk('/kaggle/input'):\n",
    "    for filename in filenames:\n",
    "        print(os.path.join(dirname, filename))\n",
    "\n",
    "# You can write up to 20GB to the current directory (/kaggle/working/) that gets preserved as output when you create a version using \"Save & Run All\" \n",
    "# You can also write temporary files to /kaggle/temp/, but they won't be saved outside of the current session"
   ]
  }
 ],
 "metadata": {
  "kaggle": {
   "accelerator": "none",
   "dataSources": [
    {
     "databundleVersionId": 9816926,
     "sourceId": 84175,
     "sourceType": "competition"
    }
   ],
   "dockerImageVersionId": 31040,
   "isGpuEnabled": false,
   "isInternetEnabled": true,
   "language": "python",
   "sourceType": "notebook"
  },
  "kernelspec": {
   "display_name": "Python 3",
   "language": "python",
   "name": "python3"
  },
  "language_info": {
   "codemirror_mode": {
    "name": "ipython",
    "version": 3
   },
   "file_extension": ".py",
   "mimetype": "text/x-python",
   "name": "python",
   "nbconvert_exporter": "python",
   "pygments_lexer": "ipython3",
   "version": "3.11.11"
  },
  "papermill": {
   "default_parameters": {},
   "duration": 8.058962,
   "end_time": "2025-07-07T23:50:23.054998",
   "environment_variables": {},
   "exception": null,
   "input_path": "__notebook__.ipynb",
   "output_path": "__notebook__.ipynb",
   "parameters": {},
   "start_time": "2025-07-07T23:50:14.996036",
   "version": "2.6.0"
  }
 },
 "nbformat": 4,
 "nbformat_minor": 5
}
